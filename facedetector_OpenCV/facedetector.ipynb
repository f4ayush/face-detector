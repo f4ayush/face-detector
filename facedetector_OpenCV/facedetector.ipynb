{
 "cells": [
  {
   "cell_type": "code",
   "execution_count": 1,
   "metadata": {},
   "outputs": [
    {
     "name": "stdout",
     "output_type": "stream",
     "text": [
      "[[[211 251 255]\n",
      "  [211 251 255]\n",
      "  [211 251 255]\n",
      "  ...\n",
      "  [ 90  84  77]\n",
      "  [ 90  84  77]\n",
      "  [ 90  84  77]]\n",
      "\n",
      " [[211 251 255]\n",
      "  [211 251 255]\n",
      "  [211 251 255]\n",
      "  ...\n",
      "  [ 90  84  77]\n",
      "  [ 90  84  77]\n",
      "  [ 90  84  77]]\n",
      "\n",
      " [[213 251 255]\n",
      "  [213 251 255]\n",
      "  [213 251 255]\n",
      "  ...\n",
      "  [ 90  84  77]\n",
      "  [ 90  84  77]\n",
      "  [ 90  84  77]]\n",
      "\n",
      " ...\n",
      "\n",
      " [[ 61  97 143]\n",
      "  [ 62  98 144]\n",
      "  [ 60  96 142]\n",
      "  ...\n",
      "  [ 29  34  55]\n",
      "  [ 28  33  54]\n",
      "  [ 27  32  53]]\n",
      "\n",
      " [[ 55  93 141]\n",
      "  [ 57  95 143]\n",
      "  [ 57  95 143]\n",
      "  ...\n",
      "  [ 29  34  55]\n",
      "  [ 28  33  54]\n",
      "  [ 28  33  54]]\n",
      "\n",
      " [[ 46  84 132]\n",
      "  [ 49  87 135]\n",
      "  [ 52  90 138]\n",
      "  ...\n",
      "  [ 30  35  56]\n",
      "  [ 29  34  55]\n",
      "  [ 28  33  54]]]\n"
     ]
    }
   ],
   "source": [
    "\n",
    "\n",
    "import cv2\n",
    "\n",
    "face_cascade=cv2.CascadeClassifier('haarcascade_frontalface_default.xml')\n",
    "\n",
    "img= cv2.imread(\"IMG-20190708-WA0019.jpg\")\n",
    "\n",
    "faces=face_cascade.detectMultiScale(img,2,4)\n",
    "\n",
    "for(x,y,w,h) in faces:\n",
    "    cv2.rectangle(img,(x,y),(x+w,y+h),(255,0,0),2)\n",
    "\n",
    "cv2.imshow('img',img)\n",
    "cv2.waitKey()\n",
    "\n",
    "print(img)\n"
   ]
  },
  {
   "cell_type": "code",
   "execution_count": 2,
   "metadata": {},
   "outputs": [],
   "source": [
    "import cv2\n",
    "import time\n",
    "face_cascade=cv2.CascadeClassifier('haarcascade_frontalface_default.xml')\n",
    "cap= cv2.VideoCapture(0)\n",
    "while True:\n",
    "    a, img = cap.read()\n",
    "    gray=cv2.cvtColor(img,cv2.COLOR_BGR2GRAY)\n",
    "    faces= face_cascade.detectMultiScale(gray,2,5)\n",
    "    for(x,y,w,h) in faces:\n",
    "        cv2.rectangle(img,(x,y),(x+w,y+h),(255,0,0),2)\n",
    "    cv2.imshow('img',img)\n",
    "    time.sleep(5)\n",
    "    k=cv2.waitKey() & 0xff\n",
    "    if k==27:\n",
    "        break\n",
    "cap.release()\n"
   ]
  },
  {
   "cell_type": "code",
   "execution_count": null,
   "metadata": {},
   "outputs": [],
   "source": []
  }
 ],
 "metadata": {
  "kernelspec": {
   "display_name": "Python 3",
   "language": "python",
   "name": "python3"
  },
  "language_info": {
   "codemirror_mode": {
    "name": "ipython",
    "version": 3
   },
   "file_extension": ".py",
   "mimetype": "text/x-python",
   "name": "python",
   "nbconvert_exporter": "python",
   "pygments_lexer": "ipython3",
   "version": "3.7.6"
  }
 },
 "nbformat": 4,
 "nbformat_minor": 4
}
